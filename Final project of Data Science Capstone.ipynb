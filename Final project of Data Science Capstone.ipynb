{
    "cells": [
        {
            "cell_type": "markdown",
            "metadata": {
                "collapsed": true
            },
            "source": "# Final project: The battle of Neighborhoods"
        },
        {
            "cell_type": "markdown",
            "metadata": {},
            "source": "## PART 1: Creating the dataframe"
        },
        {
            "cell_type": "code",
            "execution_count": 1,
            "metadata": {
                "scrolled": true
            },
            "outputs": [
                {
                    "data": {
                        "text/plain": "(140, 8)"
                    },
                    "execution_count": 1,
                    "metadata": {},
                    "output_type": "execute_result"
                }
            ],
            "source": "import pandas as pd\nurl = 'https://en.wikipedia.org/wiki/List_of_cities_by_international_visitors'\ntable = pd.read_html(url)\ndf = pd.DataFrame(table[0])\npd.set_option('display.max_columns', 5000)\ndf.columns = ['Rank_arrivals','Rank_income','City','Country','Arrivals_2018','Arrivals_income_2016','Growthin arrivals','Income_billion$']\ndf = df[0:]\ndf.shape"
        },
        {
            "cell_type": "code",
            "execution_count": 2,
            "metadata": {},
            "outputs": [
                {
                    "data": {
                        "text/html": "<div>\n<style scoped>\n    .dataframe tbody tr th:only-of-type {\n        vertical-align: middle;\n    }\n\n    .dataframe tbody tr th {\n        vertical-align: top;\n    }\n\n    .dataframe thead th {\n        text-align: right;\n    }\n</style>\n<table border=\"1\" class=\"dataframe\">\n  <thead>\n    <tr style=\"text-align: right;\">\n      <th></th>\n      <th>Rank_arrivals</th>\n      <th>Rank_income</th>\n      <th>City</th>\n      <th>Country</th>\n      <th>Arrivals_2018</th>\n      <th>Arrivals_income_2016</th>\n      <th>Growthin arrivals</th>\n      <th>Income_billion$</th>\n    </tr>\n  </thead>\n  <tbody>\n    <tr>\n      <th>0</th>\n      <td>1.0</td>\n      <td>11.0</td>\n      <td>Hong Kong</td>\n      <td>Hong Kong</td>\n      <td>29262700.0</td>\n      <td>8370000.0</td>\n      <td>5.0%</td>\n      <td>6.84</td>\n    </tr>\n    <tr>\n      <th>1</th>\n      <td>2.0</td>\n      <td>1.0</td>\n      <td>Bangkok</td>\n      <td>Thailand</td>\n      <td>24177500.0</td>\n      <td>21470000.0</td>\n      <td>7.7%</td>\n      <td>14.84</td>\n    </tr>\n    <tr>\n      <th>2</th>\n      <td>3.0</td>\n      <td>2.0</td>\n      <td>London</td>\n      <td>United Kingdom</td>\n      <td>19233000.0</td>\n      <td>19880000.0</td>\n      <td>\u22123.0%</td>\n      <td>19.76</td>\n    </tr>\n    <tr>\n      <th>3</th>\n      <td>4.0</td>\n      <td>NaN</td>\n      <td>Macau</td>\n      <td>Macau</td>\n      <td>18931400.0</td>\n      <td>NaN</td>\n      <td>9.2%</td>\n      <td>NaN</td>\n    </tr>\n    <tr>\n      <th>4</th>\n      <td>5.0</td>\n      <td>6.0</td>\n      <td>Singapore</td>\n      <td>Singapore</td>\n      <td>18551200.0</td>\n      <td>12110000.0</td>\n      <td>5.3%</td>\n      <td>12.54</td>\n    </tr>\n  </tbody>\n</table>\n</div>",
                        "text/plain": "   Rank_arrivals  Rank_income       City         Country  Arrivals_2018  \\\n0            1.0         11.0  Hong Kong       Hong Kong     29262700.0   \n1            2.0          1.0    Bangkok        Thailand     24177500.0   \n2            3.0          2.0     London  United Kingdom     19233000.0   \n3            4.0          NaN      Macau           Macau     18931400.0   \n4            5.0          6.0  Singapore       Singapore     18551200.0   \n\n   Arrivals_income_2016 Growthin arrivals  Income_billion$  \n0             8370000.0              5.0%             6.84  \n1            21470000.0              7.7%            14.84  \n2            19880000.0             \u22123.0%            19.76  \n3                   NaN              9.2%              NaN  \n4            12110000.0              5.3%            12.54  "
                    },
                    "execution_count": 2,
                    "metadata": {},
                    "output_type": "execute_result"
                }
            ],
            "source": "df.head()"
        },
        {
            "cell_type": "markdown",
            "metadata": {},
            "source": "Because all cases of missing values were happened at least three columns, I decide to delete these rows. "
        },
        {
            "cell_type": "code",
            "execution_count": 3,
            "metadata": {},
            "outputs": [],
            "source": "df_na = df.dropna(axis=0, how='any')\ndf_drop = df_na.drop(['Rank_arrivals','Rank_income','Arrivals_income_2016','Growthin arrivals'],axis=1)\ndf_sort = df_drop.sort_values(by=['Income_billion$'],ascending=0)"
        },
        {
            "cell_type": "code",
            "execution_count": 4,
            "metadata": {},
            "outputs": [
                {
                    "data": {
                        "text/plain": "(60, 4)"
                    },
                    "execution_count": 4,
                    "metadata": {},
                    "output_type": "execute_result"
                }
            ],
            "source": "df_new = pd.DataFrame([])\ndf_new['City'] = df_sort['City'].values\ndf_new['Country'] = df_sort['Country'].values\ndf_new['Arrivals_2018'] = df_sort['Arrivals_2018'].values\ndf_new['Income_billion$'] = df_sort['Income_billion$'].values\ndf_new.shape"
        },
        {
            "cell_type": "code",
            "execution_count": null,
            "metadata": {},
            "outputs": [
                {
                    "data": {
                        "text/html": "<div>\n<style scoped>\n    .dataframe tbody tr th:only-of-type {\n        vertical-align: middle;\n    }\n\n    .dataframe tbody tr th {\n        vertical-align: top;\n    }\n\n    .dataframe thead th {\n        text-align: right;\n    }\n</style>\n<table border=\"1\" class=\"dataframe\">\n  <thead>\n    <tr style=\"text-align: right;\">\n      <th></th>\n      <th>City</th>\n      <th>Country</th>\n      <th>Arrivals_2018</th>\n      <th>Income_billion$</th>\n    </tr>\n  </thead>\n  <tbody>\n    <tr>\n      <th>0</th>\n      <td>Dubai</td>\n      <td>United Arab Emirates</td>\n      <td>15920700.0</td>\n      <td>31.30</td>\n    </tr>\n    <tr>\n      <th>1</th>\n      <td>London</td>\n      <td>United Kingdom</td>\n      <td>19233000.0</td>\n      <td>19.76</td>\n    </tr>\n    <tr>\n      <th>2</th>\n      <td>New York City</td>\n      <td>United States</td>\n      <td>13600000.0</td>\n      <td>18.52</td>\n    </tr>\n    <tr>\n      <th>3</th>\n      <td>Bangkok</td>\n      <td>Thailand</td>\n      <td>24177500.0</td>\n      <td>14.84</td>\n    </tr>\n    <tr>\n      <th>4</th>\n      <td>Tokyo</td>\n      <td>Japan</td>\n      <td>9985100.0</td>\n      <td>13.48</td>\n    </tr>\n    <tr>\n      <th>5</th>\n      <td>Paris</td>\n      <td>France</td>\n      <td>17560200.0</td>\n      <td>12.88</td>\n    </tr>\n    <tr>\n      <th>6</th>\n      <td>Singapore</td>\n      <td>Singapore</td>\n      <td>18551200.0</td>\n      <td>12.54</td>\n    </tr>\n    <tr>\n      <th>7</th>\n      <td>Kuala Lumpur</td>\n      <td>Malaysia</td>\n      <td>13434300.0</td>\n      <td>11.34</td>\n    </tr>\n    <tr>\n      <th>8</th>\n      <td>Seoul</td>\n      <td>South Korea</td>\n      <td>8431400.0</td>\n      <td>11.30</td>\n    </tr>\n    <tr>\n      <th>9</th>\n      <td>Taipei</td>\n      <td>Taiwan</td>\n      <td>9597800.0</td>\n      <td>9.60</td>\n    </tr>\n  </tbody>\n</table>\n</div>",
                        "text/plain": "            City               Country  Arrivals_2018  Income_billion$\n0          Dubai  United Arab Emirates     15920700.0            31.30\n1         London        United Kingdom     19233000.0            19.76\n2  New York City         United States     13600000.0            18.52\n3        Bangkok              Thailand     24177500.0            14.84\n4          Tokyo                 Japan      9985100.0            13.48\n5          Paris                France     17560200.0            12.88\n6      Singapore             Singapore     18551200.0            12.54\n7   Kuala Lumpur              Malaysia     13434300.0            11.34\n8          Seoul           South Korea      8431400.0            11.30\n9         Taipei                Taiwan      9597800.0             9.60"
                    },
                    "execution_count": 5,
                    "metadata": {},
                    "output_type": "execute_result"
                }
            ],
            "source": "df_new.head(10)"
        },
        {
            "cell_type": "markdown",
            "metadata": {},
            "source": "**I just chose top 10 cities, which have the best income**"
        },
        {
            "cell_type": "code",
            "execution_count": null,
            "metadata": {},
            "outputs": [
                {
                    "data": {
                        "text/html": "<div>\n<style scoped>\n    .dataframe tbody tr th:only-of-type {\n        vertical-align: middle;\n    }\n\n    .dataframe tbody tr th {\n        vertical-align: top;\n    }\n\n    .dataframe thead th {\n        text-align: right;\n    }\n</style>\n<table border=\"1\" class=\"dataframe\">\n  <thead>\n    <tr style=\"text-align: right;\">\n      <th></th>\n      <th>Ranking</th>\n      <th>City</th>\n      <th>Country</th>\n      <th>Arrivals_2018</th>\n      <th>Income_billion$</th>\n    </tr>\n  </thead>\n  <tbody>\n    <tr>\n      <th>0</th>\n      <td>1</td>\n      <td>Dubai</td>\n      <td>United Arab Emirates</td>\n      <td>15920700.0</td>\n      <td>31.30</td>\n    </tr>\n    <tr>\n      <th>1</th>\n      <td>2</td>\n      <td>London</td>\n      <td>United Kingdom</td>\n      <td>19233000.0</td>\n      <td>19.76</td>\n    </tr>\n    <tr>\n      <th>2</th>\n      <td>3</td>\n      <td>New York City</td>\n      <td>United States</td>\n      <td>13600000.0</td>\n      <td>18.52</td>\n    </tr>\n    <tr>\n      <th>3</th>\n      <td>4</td>\n      <td>Bangkok</td>\n      <td>Thailand</td>\n      <td>24177500.0</td>\n      <td>14.84</td>\n    </tr>\n    <tr>\n      <th>4</th>\n      <td>5</td>\n      <td>Tokyo</td>\n      <td>Japan</td>\n      <td>9985100.0</td>\n      <td>13.48</td>\n    </tr>\n    <tr>\n      <th>5</th>\n      <td>6</td>\n      <td>Paris</td>\n      <td>France</td>\n      <td>17560200.0</td>\n      <td>12.88</td>\n    </tr>\n    <tr>\n      <th>6</th>\n      <td>7</td>\n      <td>Singapore</td>\n      <td>Singapore</td>\n      <td>18551200.0</td>\n      <td>12.54</td>\n    </tr>\n    <tr>\n      <th>7</th>\n      <td>8</td>\n      <td>Kuala Lumpur</td>\n      <td>Malaysia</td>\n      <td>13434300.0</td>\n      <td>11.34</td>\n    </tr>\n    <tr>\n      <th>8</th>\n      <td>9</td>\n      <td>Seoul</td>\n      <td>South Korea</td>\n      <td>8431400.0</td>\n      <td>11.30</td>\n    </tr>\n    <tr>\n      <th>9</th>\n      <td>10</td>\n      <td>Taipei</td>\n      <td>Taiwan</td>\n      <td>9597800.0</td>\n      <td>9.60</td>\n    </tr>\n  </tbody>\n</table>\n</div>",
                        "text/plain": "   Ranking           City               Country  Arrivals_2018  \\\n0        1          Dubai  United Arab Emirates     15920700.0   \n1        2         London        United Kingdom     19233000.0   \n2        3  New York City         United States     13600000.0   \n3        4        Bangkok              Thailand     24177500.0   \n4        5          Tokyo                 Japan      9985100.0   \n5        6          Paris                France     17560200.0   \n6        7      Singapore             Singapore     18551200.0   \n7        8   Kuala Lumpur              Malaysia     13434300.0   \n8        9          Seoul           South Korea      8431400.0   \n9       10         Taipei                Taiwan      9597800.0   \n\n   Income_billion$  \n0            31.30  \n1            19.76  \n2            18.52  \n3            14.84  \n4            13.48  \n5            12.88  \n6            12.54  \n7            11.34  \n8            11.30  \n9             9.60  "
                    },
                    "execution_count": 6,
                    "metadata": {},
                    "output_type": "execute_result"
                }
            ],
            "source": "Ranking = pd.DataFrame([1,2,3,4,5,6,7,8,9,10])\ntop_10 = df_new.head(10)\ntop_10.insert(0,'Ranking',Ranking)\n\ntop_10.head(10)"
        },
        {
            "cell_type": "markdown",
            "metadata": {},
            "source": "**Searching coordinates of each citites**"
        },
        {
            "cell_type": "code",
            "execution_count": null,
            "metadata": {},
            "outputs": [
                {
                    "name": "stdout",
                    "output_type": "stream",
                    "text": "Solving environment: done\n\n## Package Plan ##\n\n  environment location: /opt/conda/envs/Python36\n\n  added / updated specs: \n    - geopy\n\n\nThe following packages will be downloaded:\n\n    package                    |            build\n    ---------------------------|-----------------\n    geographiclib-1.50         |             py_0          34 KB  conda-forge\n    geopy-1.21.0               |             py_0          58 KB  conda-forge\n    certifi-2019.11.28         |   py36h9f0ad1d_1         149 KB  conda-forge\n    openssl-1.1.1d             |       h516909a_0         2.1 MB  conda-forge\n    python_abi-3.6             |          1_cp36m           4 KB  conda-forge\n    ca-certificates-2019.11.28 |       hecc5488_0         145 KB  conda-forge\n    ------------------------------------------------------------\n                                           Total:         2.5 MB\n\nThe following NEW packages will be INSTALLED:\n\n    geographiclib:   1.50-py_0         conda-forge\n    geopy:           1.21.0-py_0       conda-forge\n    python_abi:      3.6-1_cp36m       conda-forge\n\nThe following packages will be UPDATED:\n\n    ca-certificates: 2019.11.27-0                  --> 2019.11.28-hecc5488_0     conda-forge\n    certifi:         2019.11.28-py36_0             --> 2019.11.28-py36h9f0ad1d_1 conda-forge\n\nThe following packages will be DOWNGRADED:\n\n    openssl:         1.1.1d-h7b6447c_3             --> 1.1.1d-h516909a_0         conda-forge\n\n\nDownloading and Extracting Packages\ngeographiclib-1.50   | 34 KB     | ##################################### | 100% \ngeopy-1.21.0         | 58 KB     | ##################################### | 100% \ncertifi-2019.11.28   | 149 KB    | ##################################### | 100% \nopenssl-1.1.1d       | 2.1 MB    | ##################################### | 100% \npython_abi-3.6       | 4 KB      | ##################################### | 100% \nca-certificates-2019 | 145 KB    | ##################################### | 100% \nPreparing transaction: done\nVerifying transaction: done\nExecuting transaction: done\nSolving environment: done\n\n## Package Plan ##\n\n  environment location: /opt/conda/envs/Python36\n\n  added / updated specs: \n    - folium=0.5.0\n\n\nThe following packages will be downloaded:\n\n    package                    |            build\n    ---------------------------|-----------------\n    folium-0.5.0               |             py_0          45 KB  conda-forge\n    vincent-0.4.4              |             py_1          28 KB  conda-forge\n    branca-0.4.0               |             py_0          26 KB  conda-forge\n    altair-4.0.1               |             py_0         575 KB  conda-forge\n    ------------------------------------------------------------\n                                           Total:         673 KB\n\nThe following NEW packages will be INSTALLED:\n\n    altair:  4.0.1-py_0 conda-forge\n    branca:  0.4.0-py_0 conda-forge\n    folium:  0.5.0-py_0 conda-forge\n    vincent: 0.4.4-py_1 conda-forge\n\n\nDownloading and Extracting Packages\nfolium-0.5.0         | 45 KB     | ##################################### | 100% \nvincent-0.4.4        | 28 KB     | ##################################### | 100% \nbranca-0.4.0         | 26 KB     | ##################################### | 100% \naltair-4.0.1         | 575 KB    | ##################################### | 100% \nPreparing transaction: done\nVerifying transaction: done\nExecuting transaction: done\n"
                }
            ],
            "source": "!conda install -c conda-forge geopy --yes \nfrom geopy.geocoders import Nominatim\nimport matplotlib.cm as cm\nimport matplotlib.colors as colors\nfrom sklearn.cluster import KMeans\n!conda install -c conda-forge folium=0.5.0 --yes\nimport folium # map rendering library"
        },
        {
            "cell_type": "code",
            "execution_count": null,
            "metadata": {},
            "outputs": [
                {
                    "name": "stderr",
                    "output_type": "stream",
                    "text": "/opt/conda/envs/Python36/lib/python3.6/site-packages/ipykernel/__main__.py:1: SettingWithCopyWarning: \nA value is trying to be set on a copy of a slice from a DataFrame.\nTry using .loc[row_indexer,col_indexer] = value instead\n\nSee the caveats in the documentation: http://pandas.pydata.org/pandas-docs/stable/indexing.html#indexing-view-versus-copy\n  if __name__ == '__main__':\n"
                },
                {
                    "data": {
                        "text/html": "<div>\n<style scoped>\n    .dataframe tbody tr th:only-of-type {\n        vertical-align: middle;\n    }\n\n    .dataframe tbody tr th {\n        vertical-align: top;\n    }\n\n    .dataframe thead th {\n        text-align: right;\n    }\n</style>\n<table border=\"1\" class=\"dataframe\">\n  <thead>\n    <tr style=\"text-align: right;\">\n      <th></th>\n      <th>Ranking</th>\n      <th>City</th>\n      <th>Country</th>\n      <th>Arrivals_2018</th>\n      <th>Income_billion$</th>\n      <th>Location</th>\n    </tr>\n  </thead>\n  <tbody>\n    <tr>\n      <th>0</th>\n      <td>1</td>\n      <td>Dubai</td>\n      <td>United Arab Emirates</td>\n      <td>15920700.0</td>\n      <td>31.30</td>\n      <td>Dubai,United Arab Emirates</td>\n    </tr>\n    <tr>\n      <th>1</th>\n      <td>2</td>\n      <td>London</td>\n      <td>United Kingdom</td>\n      <td>19233000.0</td>\n      <td>19.76</td>\n      <td>London,United Kingdom</td>\n    </tr>\n    <tr>\n      <th>2</th>\n      <td>3</td>\n      <td>New York City</td>\n      <td>United States</td>\n      <td>13600000.0</td>\n      <td>18.52</td>\n      <td>New York City,United States</td>\n    </tr>\n    <tr>\n      <th>3</th>\n      <td>4</td>\n      <td>Bangkok</td>\n      <td>Thailand</td>\n      <td>24177500.0</td>\n      <td>14.84</td>\n      <td>Bangkok,Thailand</td>\n    </tr>\n    <tr>\n      <th>4</th>\n      <td>5</td>\n      <td>Tokyo</td>\n      <td>Japan</td>\n      <td>9985100.0</td>\n      <td>13.48</td>\n      <td>Tokyo,Japan</td>\n    </tr>\n    <tr>\n      <th>5</th>\n      <td>6</td>\n      <td>Paris</td>\n      <td>France</td>\n      <td>17560200.0</td>\n      <td>12.88</td>\n      <td>Paris,France</td>\n    </tr>\n    <tr>\n      <th>6</th>\n      <td>7</td>\n      <td>Singapore</td>\n      <td>Singapore</td>\n      <td>18551200.0</td>\n      <td>12.54</td>\n      <td>Singapore,Singapore</td>\n    </tr>\n    <tr>\n      <th>7</th>\n      <td>8</td>\n      <td>Kuala Lumpur</td>\n      <td>Malaysia</td>\n      <td>13434300.0</td>\n      <td>11.34</td>\n      <td>Kuala Lumpur,Malaysia</td>\n    </tr>\n    <tr>\n      <th>8</th>\n      <td>9</td>\n      <td>Seoul</td>\n      <td>South Korea</td>\n      <td>8431400.0</td>\n      <td>11.30</td>\n      <td>Seoul,South Korea</td>\n    </tr>\n    <tr>\n      <th>9</th>\n      <td>10</td>\n      <td>Taipei</td>\n      <td>Taiwan</td>\n      <td>9597800.0</td>\n      <td>9.60</td>\n      <td>Taipei,Taiwan</td>\n    </tr>\n  </tbody>\n</table>\n</div>",
                        "text/plain": "   Ranking           City               Country  Arrivals_2018  \\\n0        1          Dubai  United Arab Emirates     15920700.0   \n1        2         London        United Kingdom     19233000.0   \n2        3  New York City         United States     13600000.0   \n3        4        Bangkok              Thailand     24177500.0   \n4        5          Tokyo                 Japan      9985100.0   \n5        6          Paris                France     17560200.0   \n6        7      Singapore             Singapore     18551200.0   \n7        8   Kuala Lumpur              Malaysia     13434300.0   \n8        9          Seoul           South Korea      8431400.0   \n9       10         Taipei                Taiwan      9597800.0   \n\n   Income_billion$                     Location  \n0            31.30   Dubai,United Arab Emirates  \n1            19.76        London,United Kingdom  \n2            18.52  New York City,United States  \n3            14.84             Bangkok,Thailand  \n4            13.48                  Tokyo,Japan  \n5            12.88                 Paris,France  \n6            12.54          Singapore,Singapore  \n7            11.34        Kuala Lumpur,Malaysia  \n8            11.30            Seoul,South Korea  \n9             9.60                Taipei,Taiwan  "
                    },
                    "execution_count": 8,
                    "metadata": {},
                    "output_type": "execute_result"
                }
            ],
            "source": "top_10[\"Location\"]= top_10[\"City\"].str.cat(top_10['Country'], sep =\",\")\ntop_10"
        },
        {
            "cell_type": "code",
            "execution_count": null,
            "metadata": {},
            "outputs": [
                {
                    "name": "stdout",
                    "output_type": "stream",
                    "text": "Dubai,United Arab Emirates has latitude:  25.0657 , and longtitude:  55.1713\nLondon,United Kingdom has latitude:  51.5073219 , and longtitude:  -0.1276474\nNew York City,United States has latitude:  40.7127281 , and longtitude:  -74.0060152\nBangkok,Thailand has latitude:  13.7542529 , and longtitude:  100.493087\nTokyo,Japan has latitude:  35.6828387 , and longtitude:  139.7594549\nParis,France has latitude:  48.8566969 , and longtitude:  2.3514616\nSingapore,Singapore has latitude:  1.357107 , and longtitude:  103.8194992\n"
                }
            ],
            "source": "geolocator = Nominatim(user_agent=\"thaitran\")\nLatitude = []\nLongitude = []\nfor i in range(0,10):\n    address = top_10.Location[i]\n    location = geolocator.geocode(address)\n    print(address,'has latitude: ',location.latitude,', and longtitude: ',location.longitude)\n    Latitude.insert(i,location.latitude)\n    Longitude.insert(i,location.longitude)\n\ntop_10['Latitude'] = Latitude\ntop_10['Longitude'] = Longitude\ntop_10.head(10)"
        },
        {
            "cell_type": "markdown",
            "metadata": {},
            "source": "**Mapping these locations in world's map**"
        },
        {
            "cell_type": "code",
            "execution_count": null,
            "metadata": {},
            "outputs": [],
            "source": "map_top_10 = top_10.drop(['Arrivals_2018','Location'],axis=1)\nmap_top_10.Country[2] = 'United States of America' #Appropriate name by following the indicator of map\nmap_top_10.head(10)"
        },
        {
            "cell_type": "code",
            "execution_count": null,
            "metadata": {},
            "outputs": [],
            "source": "!wget --quiet https://raw.githubusercontent.com/parulnith/Visualising-Geospatial-data-with-Python/master/world-countries.json -O world-countries.json\ncountry_geo = r'world-countries.json'\nworld_map = folium.Map(location=[20,0],zoom_start=2)\nfor i in range(0,len(top_10)):\n    folium.Marker([map_top_10.iloc[i]['Latitude'],map_top_10.iloc[i]['Longitude']],popup=map_top_10.iloc[i]['City']).add_to(world_map)\nworld_map.choropleth(\n    geo_data=country_geo,\n    data=map_top_10,\n    columns=['Country','Income_billion$'],\n    key_on='feature.properties.name',\n    fill_color='YlGnBu', \n    fill_opacity=0.8, \n    line_opacity=0.3,\n    legend_name='Income (MasterCard) from international visitors - billion US dollars'\n)\nworld_map"
        },
        {
            "cell_type": "markdown",
            "metadata": {},
            "source": "## PART 2: Determining the advantage points by clustering all venues with its geograpic data."
        },
        {
            "cell_type": "markdown",
            "metadata": {},
            "source": "**1. Define Foursquare Credentials and its version**"
        },
        {
            "cell_type": "code",
            "execution_count": null,
            "metadata": {},
            "outputs": [],
            "source": "CLIENT_ID = 'UWJJQEM3PRAXT0G0OEEJF0KEQYLVLC1RQ4LCINHXDSIMVLEH'\nCLIENT_SECRET = 'MSWWUQODJHCLCIX3C0MDB5CBV0Q1QY0IDM4POE1UJAZSTFJJ'\nVERSION='20180412'"
        },
        {
            "cell_type": "markdown",
            "metadata": {},
            "source": "**2. Selecting all venues within the cities **"
        },
        {
            "cell_type": "code",
            "execution_count": null,
            "metadata": {},
            "outputs": [],
            "source": "import requests\ndef getNearbyVenues(names, latitudes, longitudes):\n    LIMIT=1000\n    venues_list=[]\n    for name, lat, lng in zip(names, latitudes, longitudes):\n        print(name)\n            \n        # create the API request URL\n        url = 'https://api.foursquare.com/v2/venues/explore?&client_id={}&client_secret={}&v={}&ll={},{}&limit={}'.format(\n            CLIENT_ID, \n            CLIENT_SECRET,\n            VERSION,\n            lat, \n            lng,  \n            LIMIT)\n            \n        # make the GET request\n        results = requests.get(url).json()[\"response\"]['groups'][0]['items']\n        # return only relevant information for each nearby venue\n        venues_list.append([(\n            name, \n            lat, \n            lng, \n            v['venue']['name'],\n            v['venue']['id'],\n            v['venue']['location']['lat'], \n            v['venue']['location']['lng'],  \n            v['venue']['categories'][0]['name']) for v in results])\n\n    nearby_venues = pd.DataFrame([item for venue_list in venues_list for item in venue_list])\n    nearby_venues.columns = ['City', \n                  'City Latitude', \n                  'City Longitude', \n                  'Venue',\n                  'Venue ID',           \n                  'Venue Latitude', \n                  'Venue Longitude', \n                  'Venue Category']\n    \n    return(nearby_venues)"
        },
        {
            "cell_type": "code",
            "execution_count": null,
            "metadata": {},
            "outputs": [],
            "source": "city_venues = getNearbyVenues(names=top_10['City'],\n                                   latitudes=top_10['Latitude'],\n                                   longitudes=top_10['Longitude'])"
        },
        {
            "cell_type": "code",
            "execution_count": null,
            "metadata": {},
            "outputs": [],
            "source": "city_venues.head(10)"
        },
        {
            "cell_type": "markdown",
            "metadata": {},
            "source": "* Note: If you can retrieve all data, which is related to Vistits Count, Checkin Count, liked count, and rating score, you can know better the business oppotunities in these areas."
        },
        {
            "cell_type": "markdown",
            "metadata": {},
            "source": "def getInfoVenues(Venue_IDs):\n    venues_list=[]\n    for i in range(0,len(Venue_IDs)):\n        # create the API request URL\n        url = 'https://api.foursquare.com/v2/venues/{}?&client_id={}&client_secret={}&v={}'.format(\n            Venue_IDs[i], \n            CLIENT_ID,\n            CLIENT_SECRET,\n            VERSION)\n        print (url)\n        # make the GET request\n        visitsCount = requests.get(url).json()[\"response\"]['venue']['stats']['visitsCount']\n        checkinsCount = requests.get(url).json()[\"response\"]['venue']['stats']['checkinsCount']\n        likes = requests.get(url).json()[\"response\"]['venue']['likes']['count']\n        rating = requests.get(url).json()[\"response\"]['venue']['rating']\n        print (likes)\n        # return only relevant information for each nearby venue\n        venues_list.append(\n            Venue_IDs[i],\n            visitsCount,\n            checkinsCount,\n            likes,\n            rating)\n\n    info_venues = pd.DataFrame([item for venue_list in venues_list for item in venue_list])\n    info_venues.columns = ['Venue_ID',\n                  'Visits Count',\n                  'Checkins Count', \n                  'Likes Count',\n                  'Rating']\n    \n    return(info_venues)"
        },
        {
            "cell_type": "markdown",
            "metadata": {},
            "source": "info_venues = getInfoVenues(Venue_IDs = Dubai_data['Venue ID'])\ninfo_venues.head(50)"
        },
        {
            "cell_type": "markdown",
            "metadata": {},
            "source": "**3. Clustering venues in each city by these coordinates**"
        },
        {
            "cell_type": "code",
            "execution_count": null,
            "metadata": {},
            "outputs": [],
            "source": "import itertools\nimport numpy as np\nimport matplotlib.pyplot as plt\nfrom matplotlib.ticker import NullFormatter\nimport pandas as pd\nimport numpy as np\nimport matplotlib.ticker as ticker\nfrom sklearn import preprocessing\n%matplotlib inline"
        },
        {
            "cell_type": "code",
            "execution_count": null,
            "metadata": {},
            "outputs": [],
            "source": "from sklearn.neighbors import KNeighborsClassifier\nfrom sklearn.model_selection import train_test_split\nimport sklearn.metrics as metrics"
        },
        {
            "cell_type": "markdown",
            "metadata": {},
            "source": "### The Investigation in Dubai"
        },
        {
            "cell_type": "code",
            "execution_count": null,
            "metadata": {},
            "outputs": [],
            "source": "Dubai_d =city_venues[city_venues['City'].str.contains(\"Dubai\")]\nDubai_data = Dubai_d.reset_index(drop=True)\nk_data=Dubai_data.loc[:,['Venue ID','Venue Latitude','Venue Longitude']]\nk_data.head(10)"
        },
        {
            "cell_type": "code",
            "execution_count": null,
            "metadata": {},
            "outputs": [],
            "source": "K_clusters = range(1,10)\nkmeans = [KMeans(n_clusters=i) for i in K_clusters]\nY_axis = k_data[['Venue Latitude']]\nX_axis = k_data[['Venue Longitude']]\nscore = [kmeans[i].fit(Y_axis).score(Y_axis) for i in range(len(kmeans))]# Visualize\nplt.plot(K_clusters, score)\nplt.xlabel('Number of Clusters')\nplt.ylabel('Score')\nplt.title('Elbow Curve')\nplt.show()"
        },
        {
            "cell_type": "code",
            "execution_count": null,
            "metadata": {},
            "outputs": [],
            "source": "kmeans = KMeans(n_clusters = 3, init ='k-means++')\nkmeans.fit(k_data[k_data.columns[1:3]]) # Compute k-means clustering.\nk_data['Cluster_label'] = kmeans.fit_predict(k_data[k_data.columns[1:3]])\ncenters = kmeans.cluster_centers_ # Coordinates of cluster centers.\nlabels = kmeans.predict(k_data[k_data.columns[1:3]]) # Labels of each point\ncentroids = pd.DataFrame(centers)\ncentroids.columns = ['Adv Latitude','Adv Longitude']\nCluster = pd.DataFrame(['D1','D2','D3'])\nCity = pd.DataFrame(['Dubai','Dubai','Dubai'])\nCountry = pd.DataFrame(['United Arab Emirates','United Arab Emirates','United Arab Emirates'])\ncentroids.insert(0,'Advantage points(Adv)',Cluster)\ncentroids.insert(0,'City',City)\ncentroids.insert(0,'Country',Country)\nDubai_rpt = centroids.copy()\nDubai_rpt.head()"
        },
        {
            "cell_type": "markdown",
            "metadata": {},
            "source": "### The investigation in London"
        },
        {
            "cell_type": "code",
            "execution_count": null,
            "metadata": {},
            "outputs": [],
            "source": "London_d=(city_venues[city_venues['City'].str.contains(\"London\")])\nLondon_data = London_d.reset_index(drop=True)\nk_data=London_data.loc[:,['Venue ID','Venue Latitude','Venue Longitude']]\nk_data.head()"
        },
        {
            "cell_type": "code",
            "execution_count": null,
            "metadata": {},
            "outputs": [],
            "source": "K_clusters = range(1,10)\nkmeans = [KMeans(n_clusters=i) for i in K_clusters]\nY_axis = k_data[['Venue Latitude']]\nX_axis = k_data[['Venue Longitude']]\nscore = [kmeans[i].fit(Y_axis).score(Y_axis) for i in range(len(kmeans))]# Visualize\nplt.plot(K_clusters, score)\nplt.xlabel('Number of Clusters')\nplt.ylabel('Score')\nplt.title('Elbow Curve')\nplt.show()"
        },
        {
            "cell_type": "code",
            "execution_count": null,
            "metadata": {},
            "outputs": [],
            "source": "kmeans = KMeans(n_clusters = 3, init ='k-means++')\nkmeans.fit(k_data[k_data.columns[1:3]]) # Compute k-means clustering.\nk_data['Cluster_label'] = kmeans.fit_predict(k_data[k_data.columns[1:3]])\ncenters = kmeans.cluster_centers_ # Coordinates of cluster centers.\nlabels = kmeans.predict(k_data[k_data.columns[1:3]]) # Labels of each point\ncentroids = pd.DataFrame(centers)\ncentroids.columns = ['Adv Latitude','Adv Longitude']\nCluster = pd.DataFrame(['L1','L2','L3'])\nCity = pd.DataFrame(['London','London','London'])\nCountry = pd.DataFrame(['United Kingdom','United Kingdom','United Kingdom'])\ncentroids.insert(0,'Advantage points(Adv)',Cluster)\ncentroids.insert(0,'City',City)\ncentroids.insert(0,'Country',Country)\nLondon_rpt = centroids.copy()\nLondon_rpt.head()"
        },
        {
            "cell_type": "markdown",
            "metadata": {},
            "source": "### The investigation in New York(NY)"
        },
        {
            "cell_type": "code",
            "execution_count": null,
            "metadata": {},
            "outputs": [],
            "source": "NY_d=(city_venues[city_venues['City'].str.contains(\"New York City\")])\nNY_data = NY_d.reset_index(drop=True)\nk_data=NY_data.loc[:,['Venue ID','Venue Latitude','Venue Longitude']]\nk_data.head()"
        },
        {
            "cell_type": "code",
            "execution_count": null,
            "metadata": {},
            "outputs": [],
            "source": "K_clusters = range(1,10)\nkmeans = [KMeans(n_clusters=i) for i in K_clusters]\nY_axis = k_data[['Venue Latitude']]\nX_axis = k_data[['Venue Longitude']]\nscore = [kmeans[i].fit(Y_axis).score(Y_axis) for i in range(len(kmeans))]# Visualize\nplt.plot(K_clusters, score)\nplt.xlabel('Number of Clusters')\nplt.ylabel('Score')\nplt.title('Elbow Curve')\nplt.show()"
        },
        {
            "cell_type": "code",
            "execution_count": null,
            "metadata": {},
            "outputs": [],
            "source": "kmeans = KMeans(n_clusters = 2, init ='k-means++')\nkmeans.fit(k_data[k_data.columns[1:3]]) # Compute k-means clustering.\nk_data['Cluster_label'] = kmeans.fit_predict(k_data[k_data.columns[1:3]])\ncenters = kmeans.cluster_centers_ # Coordinates of cluster centers.\nlabels = kmeans.predict(k_data[k_data.columns[1:3]]) # Labels of each point\ncentroids = pd.DataFrame(centers)\ncentroids.columns = ['Adv Latitude','Adv Longitude']\nCluster = pd.DataFrame(['NY1','NY2','NY3'])\nCity = pd.DataFrame(['New York City','New York City','New York City'])\nCountry = pd.DataFrame(['United States of America','United States of America','United States of America'])\ncentroids.insert(0,'Advantage points(Adv)',Cluster)\ncentroids.insert(0,'City',City)\ncentroids.insert(0,'Country',Country)\nNY_rpt = centroids.copy()\nNY_rpt.head()"
        },
        {
            "cell_type": "markdown",
            "metadata": {},
            "source": "### The investigation in Bangkok"
        },
        {
            "cell_type": "code",
            "execution_count": null,
            "metadata": {},
            "outputs": [],
            "source": "Bangkok_d=(city_venues[city_venues['City'].str.contains(\"Bangkok\")])\nBangkok_data = Bangkok_d.reset_index(drop=True)\nk_data=Bangkok_data.loc[:,['Venue ID','Venue Latitude','Venue Longitude']]\nk_data.head()"
        },
        {
            "cell_type": "code",
            "execution_count": null,
            "metadata": {},
            "outputs": [],
            "source": "K_clusters = range(1,10)\nkmeans = [KMeans(n_clusters=i) for i in K_clusters]\nY_axis = k_data[['Venue Latitude']]\nX_axis = k_data[['Venue Longitude']]\nscore = [kmeans[i].fit(Y_axis).score(Y_axis) for i in range(len(kmeans))]# Visualize\nplt.plot(K_clusters, score)\nplt.xlabel('Number of Clusters')\nplt.ylabel('Score')\nplt.title('Elbow Curve')\nplt.show()"
        },
        {
            "cell_type": "code",
            "execution_count": null,
            "metadata": {},
            "outputs": [],
            "source": "kmeans = KMeans(n_clusters = 3, init ='k-means++')\nkmeans.fit(k_data[k_data.columns[1:3]]) # Compute k-means clustering.\nk_data['Cluster_label'] = kmeans.fit_predict(k_data[k_data.columns[1:3]])\ncenters = kmeans.cluster_centers_ # Coordinates of cluster centers.\nlabels = kmeans.predict(k_data[k_data.columns[1:3]]) # Labels of each point\ncentroids = pd.DataFrame(centers)\ncentroids.columns = ['Adv Latitude','Adv Longitude']\nCluster = pd.DataFrame(['L1','L2','L3'])\nCity = pd.DataFrame(['Bangkok','Bangkok','Bangkok'])\nCountry = pd.DataFrame(['Thailand','Thailand','Thailand'])\ncentroids.insert(0,'Advantage points(Adv)',Cluster)\ncentroids.insert(0,'City',City)\ncentroids.insert(0,'Country',Country)\nBangkok_rpt = centroids.copy()\nBangkok_rpt.head()"
        },
        {
            "cell_type": "markdown",
            "metadata": {},
            "source": "### The investigation in Tokyo(Tk)"
        },
        {
            "cell_type": "code",
            "execution_count": null,
            "metadata": {},
            "outputs": [],
            "source": "Tokyo_d=(city_venues[city_venues['City'].str.contains(\"Tokyo\")])\nTokyo_data = Tokyo_d.reset_index(drop=True)\nk_data=Tokyo_data.loc[:,['Venue ID','Venue Latitude','Venue Longitude']]\nk_data.head()"
        },
        {
            "cell_type": "code",
            "execution_count": null,
            "metadata": {},
            "outputs": [],
            "source": "K_clusters = range(1,10)\nkmeans = [KMeans(n_clusters=i) for i in K_clusters]\nY_axis = k_data[['Venue Latitude']]\nX_axis = k_data[['Venue Longitude']]\nscore = [kmeans[i].fit(Y_axis).score(Y_axis) for i in range(len(kmeans))]# Visualize\nplt.plot(K_clusters, score)\nplt.xlabel('Number of Clusters')\nplt.ylabel('Score')\nplt.title('Elbow Curve')\nplt.show()"
        },
        {
            "cell_type": "code",
            "execution_count": null,
            "metadata": {},
            "outputs": [],
            "source": "kmeans = KMeans(n_clusters = 3, init ='k-means++')\nkmeans.fit(k_data[k_data.columns[1:3]]) # Compute k-means clustering.\nk_data['Cluster_label'] = kmeans.fit_predict(k_data[k_data.columns[1:3]])\ncenters = kmeans.cluster_centers_ # Coordinates of cluster centers.\nlabels = kmeans.predict(k_data[k_data.columns[1:3]]) # Labels of each point\ncentroids = pd.DataFrame(centers)\ncentroids.columns = ['Adv Latitude','Adv Longitude']\nCluster = pd.DataFrame(['Tk1','Tk2','Tk3'])\nCity = pd.DataFrame(['Tokyo','Tokyo','Tokyo'])\nCountry = pd.DataFrame(['Japan','Japan','Japan'])\ncentroids.insert(0,'Advantage points(Adv)',Cluster)\ncentroids.insert(0,'City',City)\ncentroids.insert(0,'Country',Country)\nTokyo_rpt = centroids.copy()\nTokyo_rpt.head()"
        },
        {
            "cell_type": "markdown",
            "metadata": {},
            "source": "### The investigation in Paris(P)"
        },
        {
            "cell_type": "code",
            "execution_count": null,
            "metadata": {},
            "outputs": [],
            "source": "Paris_d=(city_venues[city_venues['City'].str.contains(\"Paris\")])\nParis_data = Paris_d.reset_index(drop=True)\nk_data=Paris_data.loc[:,['Venue ID','Venue Latitude','Venue Longitude']]\nk_data.head()"
        },
        {
            "cell_type": "code",
            "execution_count": null,
            "metadata": {},
            "outputs": [],
            "source": "K_clusters = range(1,10)\nkmeans = [KMeans(n_clusters=i) for i in K_clusters]\nY_axis = k_data[['Venue Latitude']]\nX_axis = k_data[['Venue Longitude']]\nscore = [kmeans[i].fit(Y_axis).score(Y_axis) for i in range(len(kmeans))]# Visualize\nplt.plot(K_clusters, score)\nplt.xlabel('Number of Clusters')\nplt.ylabel('Score')\nplt.title('Elbow Curve')\nplt.show()"
        },
        {
            "cell_type": "code",
            "execution_count": null,
            "metadata": {},
            "outputs": [],
            "source": "kmeans = KMeans(n_clusters = 3, init ='k-means++')\nkmeans.fit(k_data[k_data.columns[1:3]]) # Compute k-means clustering.\nk_data['Cluster_label'] = kmeans.fit_predict(k_data[k_data.columns[1:3]])\ncenters = kmeans.cluster_centers_ # Coordinates of cluster centers.\nlabels = kmeans.predict(k_data[k_data.columns[1:3]]) # Labels of each point\ncentroids = pd.DataFrame(centers)\ncentroids.columns = ['Adv Latitude','Adv Longitude']\nCluster = pd.DataFrame(['P1','P2','P3'])\nCity = pd.DataFrame(['Paris','Paris','Paris'])\nCountry = pd.DataFrame(['France','France','France'])\ncentroids.insert(0,'Advantage points(Adv)',Cluster)\ncentroids.insert(0,'City',City)\ncentroids.insert(0,'Country',Country)\nParis_rpt = centroids.copy()\nParis_rpt.head()"
        },
        {
            "cell_type": "markdown",
            "metadata": {},
            "source": "### The investigation in Singapore(Sp)"
        },
        {
            "cell_type": "code",
            "execution_count": null,
            "metadata": {},
            "outputs": [],
            "source": "Sp_d=(city_venues[city_venues['City'].str.contains(\"Singapore\")])\nSp_data = Sp_d.reset_index(drop=True)\nk_data=Sp_data.loc[:,['Venue ID','Venue Latitude','Venue Longitude']]\nk_data.head()"
        },
        {
            "cell_type": "code",
            "execution_count": null,
            "metadata": {},
            "outputs": [],
            "source": "K_clusters = range(1,10)\nkmeans = [KMeans(n_clusters=i) for i in K_clusters]\nY_axis = k_data[['Venue Latitude']]\nX_axis = k_data[['Venue Longitude']]\nscore = [kmeans[i].fit(Y_axis).score(Y_axis) for i in range(len(kmeans))]# Visualize\nplt.plot(K_clusters, score)\nplt.xlabel('Number of Clusters')\nplt.ylabel('Score')\nplt.title('Elbow Curve')\nplt.show()"
        },
        {
            "cell_type": "code",
            "execution_count": null,
            "metadata": {},
            "outputs": [],
            "source": "kmeans = KMeans(n_clusters = 3, init ='k-means++')\nkmeans.fit(k_data[k_data.columns[1:3]]) # Compute k-means clustering.\nk_data['Cluster_label'] = kmeans.fit_predict(k_data[k_data.columns[1:3]])\ncenters = kmeans.cluster_centers_ # Coordinates of cluster centers.\nlabels = kmeans.predict(k_data[k_data.columns[1:3]]) # Labels of each point\ncentroids = pd.DataFrame(centers)\ncentroids.columns = ['Adv Latitude','Adv Longitude']\nCluster = pd.DataFrame(['Sp1','Sp2','Sp3'])\nCity = pd.DataFrame(['Singapore','Singapore','Singapore'])\nCountry = pd.DataFrame(['Singapore','Singapore','Singapore'])\ncentroids.insert(0,'Advantage points(Adv)',Cluster)\ncentroids.insert(0,'City',City)\ncentroids.insert(0,'Country',Country)\nSp_rpt = centroids.copy()\nSp_rpt.head()"
        },
        {
            "cell_type": "markdown",
            "metadata": {},
            "source": "### The investigation in Kuala Lumpur(Kl)"
        },
        {
            "cell_type": "code",
            "execution_count": null,
            "metadata": {},
            "outputs": [],
            "source": "Kl_d = (city_venues[city_venues['City'].str.contains(\"Kuala Lumpur\")])\nKl_data = Kl_d.reset_index(drop=True)\nk_data = Kl_data.loc[:,['Venue ID','Venue Latitude','Venue Longitude']]\nk_data.head()"
        },
        {
            "cell_type": "code",
            "execution_count": null,
            "metadata": {},
            "outputs": [],
            "source": "K_clusters = range(1,10)\nkmeans = [KMeans(n_clusters=i) for i in K_clusters]\nY_axis = k_data[['Venue Latitude']]\nX_axis = k_data[['Venue Longitude']]\nscore = [kmeans[i].fit(Y_axis).score(Y_axis) for i in range(len(kmeans))]# Visualize\nplt.plot(K_clusters, score)\nplt.xlabel('Number of Clusters')\nplt.ylabel('Score')\nplt.title('Elbow Curve')\nplt.show()"
        },
        {
            "cell_type": "code",
            "execution_count": null,
            "metadata": {},
            "outputs": [],
            "source": "kmeans = KMeans(n_clusters = 3, init ='k-means++')\nkmeans.fit(k_data[k_data.columns[1:3]]) # Compute k-means clustering.\nk_data['Cluster_label'] = kmeans.fit_predict(k_data[k_data.columns[1:3]])\ncenters = kmeans.cluster_centers_ # Coordinates of cluster centers.\nlabels = kmeans.predict(k_data[k_data.columns[1:3]]) # Labels of each point\ncentroids = pd.DataFrame(centers)\ncentroids.columns = ['Adv Latitude','Adv Longitude']\nCluster = pd.DataFrame(['Kl1','Kl2','Kl3'])\nCity = pd.DataFrame(['Kuala Lumpur','Kuala Lumpur','Kuala Lumpur'])\nCountry = pd.DataFrame(['Malaysia','Malaysia','Malaysia'])\ncentroids.insert(0,'Advantage points(Adv)',Cluster)\ncentroids.insert(0,'City',City)\ncentroids.insert(0,'Country',Country)\nKl_rpt = centroids.copy()\nKl_rpt.head()"
        },
        {
            "cell_type": "markdown",
            "metadata": {},
            "source": "### The investigation in Seoul(Se)"
        },
        {
            "cell_type": "code",
            "execution_count": null,
            "metadata": {},
            "outputs": [],
            "source": "Se_d = (city_venues[city_venues['City'].str.contains(\"Seoul\")])\nSe_data = Se_d.reset_index(drop=True)\nk_data = Se_data.loc[:,['Venue ID','Venue Latitude','Venue Longitude']]\nk_data.head()"
        },
        {
            "cell_type": "code",
            "execution_count": null,
            "metadata": {},
            "outputs": [],
            "source": "K_clusters = range(1,10)\nkmeans = [KMeans(n_clusters=i) for i in K_clusters]\nY_axis = k_data[['Venue Latitude']]\nX_axis = k_data[['Venue Longitude']]\nscore = [kmeans[i].fit(Y_axis).score(Y_axis) for i in range(len(kmeans))]# Visualize\nplt.plot(K_clusters, score)\nplt.xlabel('Number of Clusters')\nplt.ylabel('Score')\nplt.title('Elbow Curve')\nplt.show()"
        },
        {
            "cell_type": "code",
            "execution_count": null,
            "metadata": {},
            "outputs": [],
            "source": "kmeans = KMeans(n_clusters = 3, init ='k-means++')\nkmeans.fit(k_data[k_data.columns[1:3]]) # Compute k-means clustering.\nk_data['Cluster_label'] = kmeans.fit_predict(k_data[k_data.columns[1:3]])\ncenters = kmeans.cluster_centers_ # Coordinates of cluster centers.\nlabels = kmeans.predict(k_data[k_data.columns[1:3]]) # Labels of each point\ncentroids = pd.DataFrame(centers)\ncentroids.columns = ['Adv Latitude','Adv Longitude']\nCluster = pd.DataFrame(['Se1','Se2','Se3'])\nCity = pd.DataFrame(['Seoul','Seoul','Seoul'])\nCountry = pd.DataFrame(['South Korea','South Korea','South Korea'])\ncentroids.insert(0,'Advantage points(Adv)',Cluster)\ncentroids.insert(0,'City',City)\ncentroids.insert(0,'Country',Country)\nSe_rpt = centroids.copy()\nSe_rpt.head()"
        },
        {
            "cell_type": "markdown",
            "metadata": {},
            "source": "### The investigation in Tapei(Tp)"
        },
        {
            "cell_type": "code",
            "execution_count": null,
            "metadata": {},
            "outputs": [],
            "source": "Tp_d = (city_venues[city_venues['City'].str.contains(\"Taipei\")])\nTp_data = Tp_d.reset_index(drop=True)\nk_data = Tp_data.loc[:,['Venue ID','Venue Latitude','Venue Longitude']]\nk_data.head()"
        },
        {
            "cell_type": "code",
            "execution_count": null,
            "metadata": {},
            "outputs": [],
            "source": "K_clusters = range(1,10)\nkmeans = [KMeans(n_clusters=i) for i in K_clusters]\nY_axis = k_data[['Venue Latitude']]\nX_axis = k_data[['Venue Longitude']]\nscore = [kmeans[i].fit(Y_axis).score(Y_axis) for i in range(len(kmeans))]# Visualize\nplt.plot(K_clusters, score)\nplt.xlabel('Number of Clusters')\nplt.ylabel('Score')\nplt.title('Elbow Curve')\nplt.show()"
        },
        {
            "cell_type": "code",
            "execution_count": null,
            "metadata": {},
            "outputs": [],
            "source": "kmeans = KMeans(n_clusters = 2, init ='k-means++')\nkmeans.fit(k_data[k_data.columns[1:3]]) # Compute k-means clustering.\nk_data['Cluster_label'] = kmeans.fit_predict(k_data[k_data.columns[1:3]])\ncenters = kmeans.cluster_centers_ # Coordinates of cluster centers.\nlabels = kmeans.predict(k_data[k_data.columns[1:3]]) # Labels of each point\ncentroids = pd.DataFrame(centers)\ncentroids.columns = ['Adv Latitude','Adv Longitude']\nCluster = pd.DataFrame(['Tp1','Tp2','Tp3'])\nCity = pd.DataFrame(['Tapei','Tapei','Tapei'])\nCountry = pd.DataFrame(['Taiwan','Taiwan','Taiwan'])\ncentroids.insert(0,'Advantage points(Adv)',Cluster)\ncentroids.insert(0,'City',City)\ncentroids.insert(0,'Country',Country)\nTp_rpt = centroids.copy()\nTp_rpt.head()"
        },
        {
            "cell_type": "markdown",
            "metadata": {},
            "source": "### Assembly all dataframes of those countries into one"
        },
        {
            "cell_type": "code",
            "execution_count": null,
            "metadata": {},
            "outputs": [],
            "source": "All_rpt = pd.concat([Dubai_rpt,London_rpt,NY_rpt,Bangkok_rpt,Tokyo_rpt,Paris_rpt,Sp_rpt,Kl_rpt,Se_rpt,Tp_rpt], ignore_index=True)\nAll_rpt.columns = ['Country','City','Advantage points','Adv Latitude','Adv Longitude']\nAll_rpt.head(50)"
        },
        {
            "cell_type": "markdown",
            "metadata": {},
            "source": "## PART 3: Exploring and clustering the familiar bussiness models in different avantage points of top 10 countries which have best income from international visitors"
        },
        {
            "cell_type": "markdown",
            "metadata": {},
            "source": "**1. Selecting all venues around the clusters**"
        },
        {
            "cell_type": "code",
            "execution_count": null,
            "metadata": {},
            "outputs": [],
            "source": "import requests\ndef getNearbyVenues(names, latitudes, longitudes):\n    LIMIT=100\n    venues_list=[]\n    for name, lat, lng in zip(names, latitudes, longitudes):\n        print(name)\n            \n        # create the API request URL\n        url = 'https://api.foursquare.com/v2/venues/explore?&client_id={}&client_secret={}&v={}&ll={},{}&limit={}'.format(\n            CLIENT_ID, \n            CLIENT_SECRET,\n            VERSION,\n            lat, \n            lng,\n            LIMIT)\n            \n        # make the GET request\n        results = requests.get(url).json()[\"response\"]['groups'][0]['items']\n        \n        # return only relevant information for each nearby venue\n        venues_list.append([(\n            name, \n            lat, \n            lng, \n            v['venue']['name'], \n            v['venue']['location']['lat'], \n            v['venue']['location']['lng'],  \n            v['venue']['categories'][0]['name']) for v in results])\n\n    nearby_venues = pd.DataFrame([item for venue_list in venues_list for item in venue_list])\n    nearby_venues.columns = ['Advantage points', \n                  'Adv Latitude', \n                  'Adv Longitude', \n                  'Venue', \n                  'Venue Latitude', \n                  'Venue Longitude', \n                  'Venue Category']\n    \n    return(nearby_venues)"
        },
        {
            "cell_type": "code",
            "execution_count": null,
            "metadata": {},
            "outputs": [],
            "source": "adv_venues = getNearbyVenues(names=All_rpt['Advantage points'],\n                                   latitudes=All_rpt['Adv Latitude'],\n                                   longitudes=All_rpt['Adv Longitude'])"
        },
        {
            "cell_type": "markdown",
            "metadata": {},
            "source": "**2. Listing venues of the geographic clusters**"
        },
        {
            "cell_type": "code",
            "execution_count": null,
            "metadata": {},
            "outputs": [],
            "source": "adv_venues.head(1000)"
        },
        {
            "cell_type": "markdown",
            "metadata": {},
            "source": " **3. Counting all venues with the same clusters**"
        },
        {
            "cell_type": "code",
            "execution_count": null,
            "metadata": {},
            "outputs": [],
            "source": "adv_venues.groupby('Advantage points').count()"
        },
        {
            "cell_type": "markdown",
            "metadata": {},
            "source": "**4. Mean dataframe of each venue in each Neighborhood**"
        },
        {
            "cell_type": "code",
            "execution_count": null,
            "metadata": {
                "scrolled": true
            },
            "outputs": [],
            "source": "# one hot encoding\nadv_onehot = pd.get_dummies(adv_venues[['Venue Category']], prefix=\"\", prefix_sep=\"\")\n # insert neighborhood column to the first column\nadv_onehot.insert(loc=0, column='Advantage points', value=adv_venues['Advantage points'])\nadv_grouped = adv_onehot.groupby('Advantage points').mean().reset_index()\nadv_grouped.head()"
        },
        {
            "cell_type": "markdown",
            "metadata": {},
            "source": "**5. Ranking common venues in each geographic cluster**"
        },
        {
            "cell_type": "code",
            "execution_count": null,
            "metadata": {},
            "outputs": [],
            "source": "import numpy as np\n\ndef return_most_common_venues(row, num_top_venues):\n    row_categories = row.iloc[1:]\n    row_categories_sorted = row_categories.sort_values(ascending=False)\n    \n    return row_categories_sorted.index.values[0:num_top_venues]\n\nnum_top_venues = 10\n\nindicators = ['st', 'nd', 'rd']\n\n# create columns according to number of top venues\ncolumns = ['Advantage points']\nfor ind in np.arange(num_top_venues):\n    try:\n        columns.append('{}{} Most Common Venue'.format(ind+1, indicators[ind]))\n    except:\n        columns.append('{}th Most Common Venue'.format(ind+1))\n\n# create a new dataframe\nadv_venues_sorted = pd.DataFrame(columns=columns)\nadv_venues_sorted['Advantage points'] = adv_grouped['Advantage points']\n\nfor ind in np.arange(adv_grouped.shape[0]):\n    adv_venues_sorted.iloc[ind, 1:] = return_most_common_venues(adv_grouped.iloc[ind, :], num_top_venues)\n\nadv_venues_sorted.head()"
        },
        {
            "cell_type": "markdown",
            "metadata": {},
            "source": "**6. Clustering similar groups of venue categories for the business models of each cluster**"
        },
        {
            "cell_type": "code",
            "execution_count": null,
            "metadata": {},
            "outputs": [],
            "source": "adv_grouped_clustering = adv_grouped.drop('Advantage points', 1)\nK_clusters = range(1,15)\nkmeans = [KMeans(n_clusters=i) for i in K_clusters]\nscore = [kmeans[i].fit(adv_grouped_clustering).score(adv_grouped_clustering) for i in range(len(kmeans))]# Visualize\nplt.plot(K_clusters, score)\nplt.xlabel('Number of Clusters')\nplt.ylabel('Score')\nplt.title('Elbow Curve')\nplt.show()"
        },
        {
            "cell_type": "code",
            "execution_count": null,
            "metadata": {},
            "outputs": [],
            "source": "kclusters = 9 # Number of clusters\nadv_grouped_clustering = adv_grouped.drop('Advantage points', 1)\n# k-means clustering\nkmeans = KMeans(n_clusters=kclusters, random_state=0).fit(adv_grouped_clustering)\n# add labels\nadv_venues_sorted.insert(0, 'Cluster_Labels', kmeans.labels_)\nadv_merged = All_rpt\n# merge toronto_grouped with toronto_data\nadv_merged = adv_merged.join(adv_venues_sorted.set_index('Advantage points'), on='Advantage points')\nadv_merged.head()"
        },
        {
            "cell_type": "code",
            "execution_count": null,
            "metadata": {
                "scrolled": true
            },
            "outputs": [],
            "source": "adv_merged_mod = adv_merged.copy()\nfor i in range(0,len(adv_merged_mod['Cluster_Labels'])):\n    adv_merged_mod.Cluster_Labels[i] += 1\nadv_all_rpt = adv_merged_mod.copy()\nadv_all_rpt"
        },
        {
            "cell_type": "markdown",
            "metadata": {},
            "source": "**7. Showing these clusters with comparison of their bussiness models on global map and local maps**"
        },
        {
            "cell_type": "code",
            "execution_count": null,
            "metadata": {},
            "outputs": [],
            "source": "import numpy as np\nmap_clusters = folium.Map(location=[20,0], zoom_start=2)\nx = np.arange(kclusters)\nys = [i + x + (i*x)**2 for i in range(kclusters)]\ncolors_array = cm.rainbow(np.linspace(0, 1, len(ys)))\nrainbow = [colors.rgb2hex(i) for i in colors_array]\nmarkers_colors = []\nfor lat, lon, poi, cluster in zip(adv_all_rpt['Adv Latitude'],adv_all_rpt['Adv Longitude'],adv_all_rpt['Advantage points'],adv_all_rpt['Cluster_Labels']):\n    label = folium.Popup(str(poi) + ' Cluster ' + str(cluster), parse_html=True)\n    folium.CircleMarker(\n        [lat, lon],\n        radius=10,\n        popup=label,\n        color=rainbow[cluster-1],\n        fill=True,\n        fill_color=rainbow[cluster-1],\n        fill_opacity=0.8).add_to(map_clusters)\nmap_clusters"
        },
        {
            "cell_type": "code",
            "execution_count": null,
            "metadata": {},
            "outputs": [],
            "source": "latitude = map_top_10.Latitude[0]\nlongitude = map_top_10.Longitude[0]\nmap_clusters = folium.Map(location=[latitude,longitude], zoom_start=14)\nx = np.arange(kclusters)\nys = [i + x + (i*x)**2 for i in range(kclusters)]\ncolors_array = cm.rainbow(np.linspace(0, 1, len(ys)))\nrainbow = [colors.rgb2hex(i) for i in colors_array]\nmarkers_colors = []\nfor lat, lon, poi, cluster in zip(adv_all_rpt['Adv Latitude'],adv_all_rpt['Adv Longitude'],adv_all_rpt['Advantage points'],adv_all_rpt['Cluster_Labels']):\n    label = folium.Popup(str(poi) + ' Cluster ' + str(cluster), parse_html=True)\n    folium.CircleMarker(\n        [lat, lon],\n        radius=10,\n        popup=label,\n        color=rainbow[cluster-1],\n        fill=True,\n        fill_color=rainbow[cluster-1],\n        fill_opacity=0.8).add_to(map_clusters)\nmap_clusters"
        },
        {
            "cell_type": "code",
            "execution_count": null,
            "metadata": {
                "scrolled": false
            },
            "outputs": [],
            "source": "latitude = map_top_10.Latitude[1]\nlongitude = map_top_10.Longitude[1]\nmap_clusters = folium.Map(location=[latitude,longitude], zoom_start=16)\nx = np.arange(kclusters)\nys = [i + x + (i*x)**2 for i in range(kclusters)]\ncolors_array = cm.rainbow(np.linspace(0, 1, len(ys)))\nrainbow = [colors.rgb2hex(i) for i in colors_array]\nmarkers_colors = []\nfor lat, lon, poi, cluster in zip(adv_all_rpt['Adv Latitude'],adv_all_rpt['Adv Longitude'],adv_all_rpt['Advantage points'],adv_all_rpt['Cluster_Labels']):\n    label = folium.Popup(str(poi) + ' Cluster ' + str(cluster), parse_html=True)\n    folium.CircleMarker(\n        [lat, lon],\n        radius=10,\n        popup=label,\n        color=rainbow[cluster-1],\n        fill=True,\n        fill_color=rainbow[cluster-1],\n        fill_opacity=0.8).add_to(map_clusters)\nmap_clusters"
        },
        {
            "cell_type": "code",
            "execution_count": null,
            "metadata": {},
            "outputs": [],
            "source": "latitude = map_top_10.Latitude[2]\nlongitude = map_top_10.Longitude[2]\nmap_clusters = folium.Map(location=[latitude,longitude], zoom_start=16)\nx = np.arange(kclusters)\nys = [i + x + (i*x)**2 for i in range(kclusters)]\ncolors_array = cm.rainbow(np.linspace(0, 1, len(ys)))\nrainbow = [colors.rgb2hex(i) for i in colors_array]\nmarkers_colors = []\nfor lat, lon, poi, cluster in zip(adv_all_rpt['Adv Latitude'],adv_all_rpt['Adv Longitude'],adv_all_rpt['Advantage points'],adv_all_rpt['Cluster_Labels']):\n    label = folium.Popup(str(poi) + ' Cluster ' + str(cluster), parse_html=True)\n    folium.CircleMarker(\n        [lat, lon],\n        radius=10,\n        popup=label,\n        color=rainbow[cluster-1],\n        fill=True,\n        fill_color=rainbow[cluster-1],\n        fill_opacity=0.8).add_to(map_clusters)\nmap_clusters"
        },
        {
            "cell_type": "code",
            "execution_count": null,
            "metadata": {},
            "outputs": [],
            "source": "latitude = map_top_10.Latitude[3]\nlongitude = map_top_10.Longitude[3]\nmap_clusters = folium.Map(location=[latitude,longitude], zoom_start=16)\nx = np.arange(kclusters)\nys = [i + x + (i*x)**2 for i in range(kclusters)]\ncolors_array = cm.rainbow(np.linspace(0, 1, len(ys)))\nrainbow = [colors.rgb2hex(i) for i in colors_array]\nmarkers_colors = []\nfor lat, lon, poi, cluster in zip(adv_all_rpt['Adv Latitude'],adv_all_rpt['Adv Longitude'],adv_all_rpt['Advantage points'],adv_all_rpt['Cluster_Labels']):\n    label = folium.Popup(str(poi) + ' Cluster ' + str(cluster), parse_html=True)\n    folium.CircleMarker(\n        [lat, lon],\n        radius=10,\n        popup=label,\n        color=rainbow[cluster-1],\n        fill=True,\n        fill_color=rainbow[cluster-1],\n        fill_opacity=0.8).add_to(map_clusters)\nmap_clusters"
        },
        {
            "cell_type": "code",
            "execution_count": null,
            "metadata": {},
            "outputs": [],
            "source": "latitude = map_top_10.Latitude[4]\nlongitude = map_top_10.Longitude[4]\nmap_clusters = folium.Map(location=[latitude,longitude], zoom_start=16)\nx = np.arange(kclusters)\nys = [i + x + (i*x)**2 for i in range(kclusters)]\ncolors_array = cm.rainbow(np.linspace(0, 1, len(ys)))\nrainbow = [colors.rgb2hex(i) for i in colors_array]\nmarkers_colors = []\nfor lat, lon, poi, cluster in zip(adv_all_rpt['Adv Latitude'],adv_all_rpt['Adv Longitude'],adv_all_rpt['Advantage points'],adv_all_rpt['Cluster_Labels']):\n    label = folium.Popup(str(poi) + ' Cluster ' + str(cluster), parse_html=True)\n    folium.CircleMarker(\n        [lat, lon],\n        radius=10,\n        popup=label,\n        color=rainbow[cluster-1],\n        fill=True,\n        fill_color=rainbow[cluster-1],\n        fill_opacity=0.8).add_to(map_clusters)\nmap_clusters"
        },
        {
            "cell_type": "code",
            "execution_count": null,
            "metadata": {},
            "outputs": [],
            "source": "latitude = map_top_10.Latitude[5]\nlongitude = map_top_10.Longitude[5]\nmap_clusters = folium.Map(location=[latitude,longitude], zoom_start=16)\nx = np.arange(kclusters)\nys = [i + x + (i*x)**2 for i in range(kclusters)]\ncolors_array = cm.rainbow(np.linspace(0, 1, len(ys)))\nrainbow = [colors.rgb2hex(i) for i in colors_array]\nmarkers_colors = []\nfor lat, lon, poi, cluster in zip(adv_all_rpt['Adv Latitude'],adv_all_rpt['Adv Longitude'],adv_all_rpt['Advantage points'],adv_all_rpt['Cluster_Labels']):\n    label = folium.Popup(str(poi) + ' Cluster ' + str(cluster), parse_html=True)\n    folium.CircleMarker(\n        [lat, lon],\n        radius=10,\n        popup=label,\n        color=rainbow[cluster-1],\n        fill=True,\n        fill_color=rainbow[cluster-1],\n        fill_opacity=0.8).add_to(map_clusters)\nmap_clusters"
        },
        {
            "cell_type": "code",
            "execution_count": null,
            "metadata": {},
            "outputs": [],
            "source": "latitude = map_top_10.Latitude[6]\nlongitude = map_top_10.Longitude[6]\nmap_clusters = folium.Map(location=[latitude,longitude], zoom_start=16)\nx = np.arange(kclusters)\nys = [i + x + (i*x)**2 for i in range(kclusters)]\ncolors_array = cm.rainbow(np.linspace(0, 1, len(ys)))\nrainbow = [colors.rgb2hex(i) for i in colors_array]\nmarkers_colors = []\nfor lat, lon, poi, cluster in zip(adv_all_rpt['Adv Latitude'],adv_all_rpt['Adv Longitude'],adv_all_rpt['Advantage points'],adv_all_rpt['Cluster_Labels']):\n    label = folium.Popup(str(poi) + ' Cluster ' + str(cluster), parse_html=True)\n    folium.CircleMarker(\n        [lat, lon],\n        radius=10,\n        popup=label,\n        color=rainbow[cluster-1],\n        fill=True,\n        fill_color=rainbow[cluster-1],\n        fill_opacity=0.8).add_to(map_clusters)\nmap_clusters"
        },
        {
            "cell_type": "code",
            "execution_count": null,
            "metadata": {},
            "outputs": [],
            "source": "latitude = map_top_10.Latitude[7]\nlongitude = map_top_10.Longitude[7]\nmap_clusters = folium.Map(location=[latitude,longitude], zoom_start=16)\nx = np.arange(kclusters)\nys = [i + x + (i*x)**2 for i in range(kclusters)]\ncolors_array = cm.rainbow(np.linspace(0, 1, len(ys)))\nrainbow = [colors.rgb2hex(i) for i in colors_array]\nmarkers_colors = []\nfor lat, lon, poi, cluster in zip(adv_all_rpt['Adv Latitude'],adv_all_rpt['Adv Longitude'],adv_all_rpt['Advantage points'],adv_all_rpt['Cluster_Labels']):\n    label = folium.Popup(str(poi) + ' Cluster ' + str(cluster), parse_html=True)\n    folium.CircleMarker(\n        [lat, lon],\n        radius=10,\n        popup=label,\n        color=rainbow[cluster-1],\n        fill=True,\n        fill_color=rainbow[cluster-1],\n        fill_opacity=0.8).add_to(map_clusters)\nmap_clusters"
        },
        {
            "cell_type": "code",
            "execution_count": null,
            "metadata": {},
            "outputs": [],
            "source": "latitude = map_top_10.Latitude[8]\nlongitude = map_top_10.Longitude[8]\nmap_clusters = folium.Map(location=[latitude,longitude], zoom_start=16)\nx = np.arange(kclusters)\nys = [i + x + (i*x)**2 for i in range(kclusters)]\ncolors_array = cm.rainbow(np.linspace(0, 1, len(ys)))\nrainbow = [colors.rgb2hex(i) for i in colors_array]\nmarkers_colors = []\nfor lat, lon, poi, cluster in zip(adv_all_rpt['Adv Latitude'],adv_all_rpt['Adv Longitude'],adv_all_rpt['Advantage points'],adv_all_rpt['Cluster_Labels']):\n    label = folium.Popup(str(poi) + ' Cluster ' + str(cluster), parse_html=True)\n    folium.CircleMarker(\n        [lat, lon],\n        radius=10,\n        popup=label,\n        color=rainbow[cluster-1],\n        fill=True,\n        fill_color=rainbow[cluster-1],\n        fill_opacity=0.8).add_to(map_clusters)\nmap_clusters"
        },
        {
            "cell_type": "code",
            "execution_count": null,
            "metadata": {},
            "outputs": [],
            "source": "latitude = map_top_10.Latitude[9]\nlongitude = map_top_10.Longitude[9]\nmap_clusters = folium.Map(location=[latitude,longitude], zoom_start=16)\nx = np.arange(kclusters)\nys = [i + x + (i*x)**2 for i in range(kclusters)]\ncolors_array = cm.rainbow(np.linspace(0, 1, len(ys)))\nrainbow = [colors.rgb2hex(i) for i in colors_array]\nmarkers_colors = []\nfor lat, lon, poi, cluster in zip(adv_all_rpt['Adv Latitude'],adv_all_rpt['Adv Longitude'],adv_all_rpt['Advantage points'],adv_all_rpt['Cluster_Labels']):\n    label = folium.Popup(str(poi) + ' Cluster ' + str(cluster), parse_html=True)\n    folium.CircleMarker(\n        [lat, lon],\n        radius=10,\n        popup=label,\n        color=rainbow[cluster-1],\n        fill=True,\n        fill_color=rainbow[cluster-1],\n        fill_opacity=0.8).add_to(map_clusters)\nmap_clusters"
        }
    ],
    "metadata": {
        "kernelspec": {
            "display_name": "Python 3.6",
            "language": "python",
            "name": "python3"
        },
        "language_info": {
            "codemirror_mode": {
                "name": "ipython",
                "version": 3
            },
            "file_extension": ".py",
            "mimetype": "text/x-python",
            "name": "python",
            "nbconvert_exporter": "python",
            "pygments_lexer": "ipython3",
            "version": "3.6.9"
        }
    },
    "nbformat": 4,
    "nbformat_minor": 1
}