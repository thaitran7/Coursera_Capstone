{
    "cells": [
        {
            "cell_type": "markdown",
            "metadata": {
                "collapsed": true
            },
            "source": "# Applied Data Science Capstone"
        },
        {
            "cell_type": "markdown",
            "metadata": {},
            "source": "<dl>\n  <dt>Author</dt>\n  <dd>This notebook was created by <b>Thai Quoc Tran</b>.</dd>\n\n  <dt>Main Purpose</dt>\n    <dd>It is <i>only</i> used for the <i>non-profitable</i> and <i>educational project</i>, which aims to evaluate how Data Trainees comprehend <em>at the end of <strong>\"IBM Data Science Professional\"</strong> course</em>.</dd>\n</dl>"
        },
        {
            "cell_type": "code",
            "execution_count": 4,
            "metadata": {},
            "outputs": [
                {
                    "name": "stdout",
                    "output_type": "stream",
                    "text": "Hello Capstone Project Course!\n"
                }
            ],
            "source": "import pandas as pd\nimport numpy as np\n\nprint('Hello Capstone Project Course!')"
        }
    ],
    "metadata": {
        "kernelspec": {
            "display_name": "Python 3.6",
            "language": "python",
            "name": "python3"
        },
        "language_info": {
            "codemirror_mode": {
                "name": "ipython",
                "version": 3
            },
            "file_extension": ".py",
            "mimetype": "text/x-python",
            "name": "python",
            "nbconvert_exporter": "python",
            "pygments_lexer": "ipython3",
            "version": "3.6.9"
        }
    },
    "nbformat": 4,
    "nbformat_minor": 1
}