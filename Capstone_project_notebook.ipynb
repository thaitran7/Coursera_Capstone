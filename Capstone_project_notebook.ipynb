{
    "cells": [
        {
            "metadata": {
                "collapsed": true
            },
            "cell_type": "markdown",
            "source": "# Applied Data Science Capstone"
        },
        {
            "metadata": {},
            "cell_type": "markdown",
            "source": "<dl>\n  <dt>Author</dt>\n  <dd>This notebook was created by <b>Thai Quoc Tran</b>.</dd>\n\n  <dt>Main Purpose</dt>\n    <dd>It is <mark>only</mark> used for the <u>non-profitable</u> and <u>educational project</u>, which aims to evaluate how Data Trainees comprehend <em>at the end of <strong>\"IBM Data Science Professional\"</strong> course</em>.</dd>\n</dl>"
        },
        {
            "metadata": {},
            "cell_type": "code",
            "source": "import pandas as pd\nimport numpy as np\n\nprint('Hello Capstone Project Course!')",
            "execution_count": 3,
            "outputs": [
                {
                    "output_type": "stream",
                    "text": "Hello Capstone Project Course!\n",
                    "name": "stdout"
                }
            ]
        }
    ],
    "metadata": {
        "kernelspec": {
            "name": "python3",
            "display_name": "Python 3.6",
            "language": "python"
        },
        "language_info": {
            "name": "python",
            "version": "3.6.9",
            "mimetype": "text/x-python",
            "codemirror_mode": {
                "name": "ipython",
                "version": 3
            },
            "pygments_lexer": "ipython3",
            "nbconvert_exporter": "python",
            "file_extension": ".py"
        }
    },
    "nbformat": 4,
    "nbformat_minor": 1
}